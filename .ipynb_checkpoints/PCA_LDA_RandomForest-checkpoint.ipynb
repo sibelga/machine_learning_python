{
 "cells": [
  {
   "cell_type": "code",
   "execution_count": null,
   "metadata": {
    "collapsed": true
   },
   "outputs": [],
   "source": [
    "#!/usr/bin/env python3\n",
    "# -*- coding: utf-8 -*-\n",
    "\"\"\"\n",
    "Created on Sun Sep 23 15:19:51 2018\n",
    "\n",
    "@author: sihambelgadi\n",
    "\"\"\"\n",
    "\n",
    "import matplotlib.pyplot as plt\n",
    "import pandas as pd\n",
    "import numpy as np\n",
    "import io\n",
    "from sklearn.preprocessing import LabelBinarizer, LabelEncoder\n",
    " \n",
    "\n",
    "df = pd.read_csv('model-500-1000.csv')\n",
    "test=pd.read_csv('Testing_data_500.csv')\n",
    "\n",
    "\n",
    "# encoder = LabelBinarizer()\n",
    "encoder = LabelEncoder()\n",
    "X = df.iloc[:,5:-1].values\n",
    "Xt = test.iloc[:,5:-1].values\n",
    "y = encoder.fit_transform(df.iloc[:,0])\n",
    "yt= encoder.fit_transform(test.iloc[:,0])\n",
    "print(X.shape)\n",
    "print(y.shape)\n",
    "print(Xt.shape)\n",
    "print(yt.shape)"
   ]
  },
  {
   "cell_type": "code",
   "execution_count": null,
   "metadata": {
    "collapsed": true
   },
   "outputs": [],
   "source": [
    "encoder = LabelEncoder()\n",
    "X = df.iloc[:,5:-1].values\n",
    "y = encoder.fit_transform(df.iloc[:,0])\n",
    "X, X_test, y, y_test = train_test_split(X, y, train_size=0.75, random_state=42)\n",
    "\n",
    "X_orig = X\n",
    "Y_orig = y\n",
    "\n",
    "print(X.shape)\n",
    "print(y.shape)\n",
    "def data():\n",
    "    return X, y\n",
    "def datatest():\n",
    "    return X_test,y_test\n"
   ]
  },
  {
   "cell_type": "code",
   "execution_count": null,
   "metadata": {
    "collapsed": true
   },
   "outputs": [],
   "source": [
    "from sklearn.decomposition import PCA\n",
    "pca = PCA(n_components=2)\n",
    "principalComponents = pca.fit_transform(x)\n",
    "principalDf = pd.DataFrame(data = principalComponents, columns = ['principal component 1', 'principal component 2'])\n",
    "target=pd.DataFrame(data=y,columns=['target'])\n",
    "\n",
    "\n",
    "\n",
    "finalDf = pd.concat([principalDf, target], axis = 1)\n",
    "\n",
    "\n",
    "fig = plt.figure(figsize = (8,8))\n",
    "ax = fig.add_subplot(1,1,1) \n",
    "ax.set_xlabel('Principal Component 1', fontsize = 15)\n",
    "ax.set_ylabel('Principal Component 2', fontsize = 15)\n",
    "ax.set_title('2 component PCA', fontsize = 20)\n",
    "targets = [0,1,2,3]\n",
    "colors = ['r', 'g', 'b','y']\n",
    "for target, color in zip(targets,colors):\n",
    "    indicesToKeep = finalDf['target'] == target\n",
    "    ax.scatter(finalDf.loc[indicesToKeep, 'principal component 1']\n",
    "               , finalDf.loc[indicesToKeep, 'principal component 2']\n",
    "               , c = color\n",
    "               , s = 50)\n",
    "ax.legend(targets)\n",
    "ax.grid()\n",
    "\n",
    "\n",
    "\n",
    "train_img = pca.transform(x)\n",
    "test_img = pca.transform(X_test)\n",
    "\n",
    "\n",
    "\n",
    "from sklearn.ensemble import RandomForestClassifier\n",
    "\n",
    "clf = RandomForestClassifier()\n",
    "clf.fit(train_img, y)\n",
    "predicted=clf.predict(test_img)\n",
    "\n",
    "print(accuracy_score(y_test, predicted))\n",
    "print(classification_report(y_test, predicted))\n"
   ]
  }
 ],
 "metadata": {
  "kernelspec": {
   "display_name": "Python 3",
   "language": "python",
   "name": "python3"
  },
  "language_info": {
   "codemirror_mode": {
    "name": "ipython",
    "version": 3
   },
   "file_extension": ".py",
   "mimetype": "text/x-python",
   "name": "python",
   "nbconvert_exporter": "python",
   "pygments_lexer": "ipython3",
   "version": "3.6.3"
  }
 },
 "nbformat": 4,
 "nbformat_minor": 2
}
